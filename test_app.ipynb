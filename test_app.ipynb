{
 "cells": [
  {
   "cell_type": "code",
   "execution_count": 9,
   "id": "8c64e3eb",
   "metadata": {},
   "outputs": [
    {
     "name": "stdout",
     "output_type": "stream",
     "text": [
      "Connected to DB successfully.\n",
      "Fetched rows: 10\n",
      "(Decimal('24.5'), 100, 'Middle', 2, datetime.date(2025, 5, 3))\n",
      "(Decimal('27.9'), 100, 'West Front', 1, datetime.date(2025, 5, 3))\n",
      "(Decimal('24.7'), 100, 'West Front', 1, datetime.date(2025, 5, 3))\n",
      "(Decimal('24.7'), 100, 'West Front', 1, datetime.date(2025, 5, 3))\n",
      "(Decimal('24.6'), 100, 'West Front', 1, datetime.date(2025, 5, 3))\n",
      "(Decimal('24.7'), 100, 'West Front', 1, datetime.date(2025, 5, 3))\n",
      "(Decimal('24.6'), 100, 'West Front', 1, datetime.date(2025, 5, 3))\n",
      "(Decimal('24.4'), 100, 'West Front', 1, datetime.date(2025, 5, 3))\n",
      "(Decimal('24.3'), 100, 'West Front', 1, datetime.date(2025, 5, 3))\n",
      "(Decimal('24.3'), 100, 'West Front', 1, datetime.date(2025, 5, 3))\n"
     ]
    }
   ],
   "source": [
    "import pyodbc\n",
    "\n",
    "def fetch_latest_sensor():\n",
    "    try:\n",
    "        conn = pyodbc.connect(\n",
    "            \"DRIVER={ODBC Driver 17 for SQL Server};\"\n",
    "            \"SERVER=tdmsql.database.windows.net;\"\n",
    "            \"DATABASE=DynamicsByod;\"\n",
    "            \"UID=sqladmin;\"\n",
    "            \"PWD=tdmtdM@kt;\"\n",
    "            \"Encrypt=yes;\"\n",
    "        )\n",
    "        print(\"Connected to DB successfully.\")\n",
    "        \n",
    "        cursor = conn.cursor()\n",
    "        cursor.execute(\"\"\"\n",
    "            SELECT TOP 10 Temperature, Humidity, Position, Sensor, Date\n",
    "            FROM Agrobiz.SENSOR_DATA\n",
    "            ORDER BY Date DESC\n",
    "        \"\"\")\n",
    "        rows = cursor.fetchall()\n",
    "        print(\"Fetched rows:\", len(rows))\n",
    "        \n",
    "        for row in rows:\n",
    "            print(row)\n",
    "        \n",
    "        cursor.close()\n",
    "        conn.close()\n",
    "\n",
    "    except Exception as e:\n",
    "        print(\"An error occurred:\", e)\n",
    "\n",
    "# Don't forget to call the function\n",
    "fetch_latest_sensor()\n"
   ]
  },
  {
   "cell_type": "code",
   "execution_count": 4,
   "id": "d7fb7a83",
   "metadata": {},
   "outputs": [
    {
     "name": "stderr",
     "output_type": "stream",
     "text": [
      "c:\\Python311\\Lib\\site-packages\\tqdm\\auto.py:21: TqdmWarning: IProgress not found. Please update jupyter and ipywidgets. See https://ipywidgets.readthedocs.io/en/stable/user_install.html\n",
      "  from .autonotebook import tqdm as notebook_tqdm\n"
     ]
    },
    {
     "name": "stdout",
     "output_type": "stream",
     "text": [
      "Model loaded successfully.\n"
     ]
    }
   ],
   "source": [
    "from transformers import AutoModelForCausalLM, AutoTokenizer\n",
    "\n",
    "tokenizer = AutoTokenizer.from_pretrained(\"microsoft/DialoGPT-medium\")\n",
    "model = AutoModelForCausalLM.from_pretrained(\"microsoft/DialoGPT-medium\")\n",
    "print(\"Model loaded successfully.\")\n"
   ]
  },
  {
   "cell_type": "code",
   "execution_count": 10,
   "id": "bb67b3a5",
   "metadata": {},
   "outputs": [
    {
     "name": "stderr",
     "output_type": "stream",
     "text": [
      "The following generation flags are not valid and may be ignored: ['temperature', 'top_p', 'top_k']. Set `TRANSFORMERS_VERBOSITY=info` for more details.\n",
      "The attention mask is not set and cannot be inferred from input because pad token is same as eos token. As a consequence, you may observe unexpected behavior. Please pass your input's `attention_mask` to obtain reliable results.\n"
     ]
    },
    {
     "name": "stdout",
     "output_type": "stream",
     "text": [
      "Bot: Hello! :D\n"
     ]
    }
   ],
   "source": [
    "input_text = \"Hello!\"\n",
    "new_input_ids = tokenizer.encode(input_text + tokenizer.eos_token, return_tensors='pt')\n",
    "\n",
    "output_ids = model.generate(\n",
    "    new_input_ids,\n",
    "    max_length=1000,\n",
    "    pad_token_id=tokenizer.eos_token_id,\n",
    "    top_k=100,\n",
    "    top_p=0.7,\n",
    "    temperature=0.9\n",
    ")\n",
    "\n",
    "reply = tokenizer.decode(output_ids[:, new_input_ids.shape[-1]:][0], skip_special_tokens=True)\n",
    "print(\"Bot:\", reply)\n"
   ]
  }
 ],
 "metadata": {
  "kernelspec": {
   "display_name": "Python 3",
   "language": "python",
   "name": "python3"
  },
  "language_info": {
   "codemirror_mode": {
    "name": "ipython",
    "version": 3
   },
   "file_extension": ".py",
   "mimetype": "text/x-python",
   "name": "python",
   "nbconvert_exporter": "python",
   "pygments_lexer": "ipython3",
   "version": "3.11.3"
  }
 },
 "nbformat": 4,
 "nbformat_minor": 5
}
